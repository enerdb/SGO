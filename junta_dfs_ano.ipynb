{
 "cells": [
  {
   "cell_type": "markdown",
   "id": "334f8161",
   "metadata": {},
   "source": [
    "# Imports and Setup"
   ]
  },
  {
   "cell_type": "code",
   "execution_count": 1,
   "id": "929fd3c7",
   "metadata": {},
   "outputs": [],
   "source": [
    "import pandas as pd\n",
    "import matplotlib.pyplot as plt\n",
    "import seaborn as sns\n",
    "\n",
    "%matplotlib inline\n",
    "plt.rcParams['figure.figsize'] = [15, 7]\n",
    "\n",
    "flag_export_plots = False"
   ]
  },
  {
   "cell_type": "code",
   "execution_count": 2,
   "id": "070114c8",
   "metadata": {},
   "outputs": [],
   "source": [
    "def string_ate_ponto(string):\n",
    "    return string.split('.')[0]\n",
    "\n",
    "def arruma_data_hora(df, coluna):\n",
    "    df[coluna] = df[coluna].apply(string_ate_ponto)\n",
    "    df[coluna] = pd.to_datetime(df[coluna], format = '%Y/%m/%d %H:%M:%S')\n",
    "    return df\n",
    "    "
   ]
  },
  {
   "cell_type": "code",
   "execution_count": 3,
   "id": "73f7691e",
   "metadata": {},
   "outputs": [],
   "source": [
    "def verifica_ano(caminho):\n",
    "    df = pd.read_csv(caminho)\n",
    "    df = arruma_data_hora(df, 'DT_CADASTRO')\n",
    "    print(f'Este arquivo começa em {df.DT_CADASTRO.tail(1)}')\n",
    "    print(f'Este arquivo termina em {df.DT_CADASTRO.head(1)}')\n",
    "    \n",
    "    return df"
   ]
  },
  {
   "cell_type": "code",
   "execution_count": 17,
   "id": "0bcd8a98",
   "metadata": {},
   "outputs": [],
   "source": [
    "def exporta_arquivo(listadfs, ano):\n",
    "    df = pd.concat(listadfs, ignore_index = True)\n",
    "    # df = arruma_data_hora(df, 'DT_CADASTRO')\n",
    "    df2exp = df[df['DT_CADASTRO'].dt.year == ano]\n",
    "    df.to_csv('TP_TELE_ATENDIMENTO/tele' + ano + '.csv')"
   ]
  },
  {
   "cell_type": "markdown",
   "id": "89fac071",
   "metadata": {},
   "source": [
    "# Execução"
   ]
  },
  {
   "cell_type": "code",
   "execution_count": 12,
   "id": "7b2651c8",
   "metadata": {},
   "outputs": [
    {
     "name": "stderr",
     "output_type": "stream",
     "text": [
      "C:\\Users\\ENER~1.BEC\\AppData\\Local\\Temp/ipykernel_14660/3271230144.py:1: DtypeWarning: Columns (13,20,41) have mixed types.Specify dtype option on import or set low_memory=False.\n",
      "  df1 = verifica_ano('TP_TELE_ATENDIMENTO/tp_tele11.csv')\n"
     ]
    },
    {
     "name": "stdout",
     "output_type": "stream",
     "text": [
      "Este arquivo começa em 908131   2021-10-11 00:33:08\n",
      "Name: DT_CADASTRO, dtype: datetime64[ns]\n",
      "Este arquivo termina em 0   2022-05-27 08:46:23\n",
      "Name: DT_CADASTRO, dtype: datetime64[ns]\n"
     ]
    }
   ],
   "source": [
    "df1 = verifica_ano('TP_TELE_ATENDIMENTO/tp_tele11.csv')"
   ]
  },
  {
   "cell_type": "code",
   "execution_count": 17,
   "id": "fe1d4310",
   "metadata": {},
   "outputs": [],
   "source": [
    "df_2022_exp = df1[df1['DT_CADASTRO'].dt.year == 2022]"
   ]
  },
  {
   "cell_type": "code",
   "execution_count": 21,
   "id": "4b37c9ac",
   "metadata": {},
   "outputs": [],
   "source": [
    "df_2022_exp.to_csv('TP_TELE_ATENDIMENTO/tele2022.csv')"
   ]
  },
  {
   "cell_type": "code",
   "execution_count": 4,
   "id": "7322f087",
   "metadata": {
    "scrolled": false
   },
   "outputs": [
    {
     "name": "stderr",
     "output_type": "stream",
     "text": [
      "C:\\Users\\ENER~1.BEC\\AppData\\Local\\Temp/ipykernel_14660/1030049249.py:1: DtypeWarning: Columns (13,22,30,41) have mixed types.Specify dtype option on import or set low_memory=False.\n",
      "  df2 = verifica_ano('TP_TELE_ATENDIMENTO/tp_tele10.csv')\n"
     ]
    },
    {
     "name": "stdout",
     "output_type": "stream",
     "text": [
      "Este arquivo começa em 880112   2021-10-11 00:32:42\n",
      "Name: DT_CADASTRO, dtype: datetime64[ns]\n",
      "Este arquivo termina em 0   2021-03-03 17:53:45\n",
      "Name: DT_CADASTRO, dtype: datetime64[ns]\n"
     ]
    }
   ],
   "source": [
    "df2 = verifica_ano('TP_TELE_ATENDIMENTO/tp_tele10.csv')"
   ]
  },
  {
   "cell_type": "code",
   "execution_count": 6,
   "id": "a1f3be8e",
   "metadata": {
    "scrolled": false
   },
   "outputs": [
    {
     "name": "stderr",
     "output_type": "stream",
     "text": [
      "C:\\Users\\ENER~1.BEC\\AppData\\Local\\Temp/ipykernel_14660/2681652010.py:1: DtypeWarning: Columns (23,41) have mixed types.Specify dtype option on import or set low_memory=False.\n",
      "  df3 = verifica_ano('TP_TELE_ATENDIMENTO/tp_tele09.csv')\n"
     ]
    },
    {
     "name": "stdout",
     "output_type": "stream",
     "text": [
      "Este arquivo começa em 900107   2021-03-03 17:52:29\n",
      "Name: DT_CADASTRO, dtype: datetime64[ns]\n",
      "Este arquivo termina em 0   2020-06-21 20:11:21\n",
      "Name: DT_CADASTRO, dtype: datetime64[ns]\n"
     ]
    }
   ],
   "source": [
    "df3 = verifica_ano('TP_TELE_ATENDIMENTO/tp_tele09.csv')"
   ]
  },
  {
   "cell_type": "code",
   "execution_count": 7,
   "id": "bc627ceb",
   "metadata": {},
   "outputs": [
    {
     "name": "stderr",
     "output_type": "stream",
     "text": [
      "C:\\Users\\ENER~1.BEC\\AppData\\Local\\Temp/ipykernel_14660/1448990111.py:1: DtypeWarning: Columns (23,41) have mixed types.Specify dtype option on import or set low_memory=False.\n",
      "  df4 = verifica_ano('TP_TELE_ATENDIMENTO/tp_tele08.csv')\n"
     ]
    },
    {
     "name": "stdout",
     "output_type": "stream",
     "text": [
      "Este arquivo começa em 940102   2020-06-21 20:11:16\n",
      "Name: DT_CADASTRO, dtype: datetime64[ns]\n",
      "Este arquivo termina em 0   2019-12-08 20:33:18\n",
      "Name: DT_CADASTRO, dtype: datetime64[ns]\n"
     ]
    }
   ],
   "source": [
    "df4 = verifica_ano('TP_TELE_ATENDIMENTO/tp_tele08.csv')"
   ]
  },
  {
   "cell_type": "code",
   "execution_count": 8,
   "id": "214aa1e0",
   "metadata": {},
   "outputs": [
    {
     "name": "stderr",
     "output_type": "stream",
     "text": [
      "C:\\Users\\ENER~1.BEC\\AppData\\Local\\Temp/ipykernel_14660/328531808.py:1: DtypeWarning: Columns (22,41) have mixed types.Specify dtype option on import or set low_memory=False.\n",
      "  df5 = verifica_ano('TP_TELE_ATENDIMENTO/tp_tele07.csv')\n"
     ]
    },
    {
     "name": "stdout",
     "output_type": "stream",
     "text": [
      "Este arquivo começa em 860211   2019-12-08 20:33:13\n",
      "Name: DT_CADASTRO, dtype: datetime64[ns]\n",
      "Este arquivo termina em 0   2019-04-19 23:06:33\n",
      "Name: DT_CADASTRO, dtype: datetime64[ns]\n"
     ]
    }
   ],
   "source": [
    "df5 = verifica_ano('TP_TELE_ATENDIMENTO/tp_tele07.csv')"
   ]
  },
  {
   "cell_type": "code",
   "execution_count": 9,
   "id": "0418f4c4",
   "metadata": {},
   "outputs": [
    {
     "name": "stderr",
     "output_type": "stream",
     "text": [
      "C:\\Users\\ENER~1.BEC\\AppData\\Local\\Temp/ipykernel_14660/2795835827.py:1: DtypeWarning: Columns (13,22,30,38,41) have mixed types.Specify dtype option on import or set low_memory=False.\n",
      "  df6 = verifica_ano('TP_TELE_ATENDIMENTO/tp_tele06.csv')\n"
     ]
    },
    {
     "name": "stdout",
     "output_type": "stream",
     "text": [
      "Este arquivo começa em 870039   2019-04-19 23:06:28\n",
      "Name: DT_CADASTRO, dtype: datetime64[ns]\n",
      "Este arquivo termina em 0   2018-10-06 20:40:00\n",
      "Name: DT_CADASTRO, dtype: datetime64[ns]\n"
     ]
    }
   ],
   "source": [
    "df6 = verifica_ano('TP_TELE_ATENDIMENTO/tp_tele06.csv')"
   ]
  },
  {
   "cell_type": "code",
   "execution_count": 18,
   "id": "b8501f81",
   "metadata": {},
   "outputs": [],
   "source": [
    "exporta_arquivo([df1, df2, df3], '2021')"
   ]
  },
  {
   "cell_type": "code",
   "execution_count": 19,
   "id": "945bc7bc",
   "metadata": {},
   "outputs": [],
   "source": [
    "exporta_arquivo([df3, df4], '2020')"
   ]
  },
  {
   "cell_type": "code",
   "execution_count": 20,
   "id": "00b013fe",
   "metadata": {},
   "outputs": [],
   "source": [
    "exporta_arquivo([df4, df5, df6], '2019')"
   ]
  },
  {
   "cell_type": "code",
   "execution_count": null,
   "id": "36e0b067",
   "metadata": {},
   "outputs": [],
   "source": []
  }
 ],
 "metadata": {
  "kernelspec": {
   "display_name": "Python 3 (ipykernel)",
   "language": "python",
   "name": "python3"
  },
  "language_info": {
   "codemirror_mode": {
    "name": "ipython",
    "version": 3
   },
   "file_extension": ".py",
   "mimetype": "text/x-python",
   "name": "python",
   "nbconvert_exporter": "python",
   "pygments_lexer": "ipython3",
   "version": "3.9.7"
  }
 },
 "nbformat": 4,
 "nbformat_minor": 5
}
