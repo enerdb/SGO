{
 "cells": [
  {
   "cell_type": "markdown",
   "id": "3bfe70c0-d244-4712-a784-7c0ee6bc492a",
   "metadata": {},
   "source": [
    "# Imports and Config"
   ]
  },
  {
   "cell_type": "code",
   "execution_count": 1,
   "id": "c84b1fa8-16f3-44c4-8925-0c0b18fdc296",
   "metadata": {},
   "outputs": [],
   "source": [
    "import pandas as pd\n",
    "import matplotlib.pyplot as plt\n",
    "import seaborn as sns\n",
    "\n",
    "%matplotlib inline\n",
    "plt.rcParams['figure.figsize'] = [15, 7]\n",
    "\n",
    "flag_logs = False\n",
    "flag_export_plots = False\n",
    "\n",
    "datapath = '../SGO_data/'"
   ]
  },
  {
   "cell_type": "code",
   "execution_count": 2,
   "id": "9db6d5cf-ff1e-4867-800f-4682fdaf2a58",
   "metadata": {},
   "outputs": [
    {
     "name": "stderr",
     "output_type": "stream",
     "text": [
      "C:\\Users\\ener.beckmann\\AppData\\Local\\Temp\\ipykernel_6180\\2181370409.py:10: DtypeWarning: Columns (18,19) have mixed types. Specify dtype option on import or set low_memory=False.\n",
      "  atendimento = pd.read_csv(datapath + 'criados/atendimento_plus2021.csv',\n"
     ]
    }
   ],
   "source": [
    "cols_touse = ['COD_ATENDIMENTO', 'COD_TELEATENDIMENTO',\n",
    "       'DSC_HISTORICO', 'DT_FINALIZADO', 'DT_CADASTRO', 'DESTAQUE',\n",
    "       'DT_LIBERAR_FECHAMENTO',\n",
    "       'DSC_TERMO_CIRCUNSTANCIADO_PMDF', 'COD_TIPO_UNIDADE', 'DSC_UNIDADE',\n",
    "       'DSC_AGENCIA', 'NM_SIGLA', 'NR_ATENDIMENTO',\n",
    "       'NR_LATITUDE_y', 'NR_LONGITUDE_y', 'DSC_BAIRRO', 'DSC_CIDADE', 'DSC_NATUREZA',\n",
    "       'DSC_NATUREZA_GRUPO', 'DSC_NATUREZA_SUBGRUPO',\n",
    "       'DSC_NATUREZA_INICIAL', 'DSC_NATUREZA_GRUPO_INICIAL', 'DSC_NATUREZA_SUBGRUPO_INICIAL', 'NM_TIPO_DESFECHO']\n",
    "\n",
    "atendimento = pd.read_csv(datapath + 'criados/atendimento_plus2021.csv',\n",
    "                          usecols = cols_touse,\n",
    "                          dtype = {'DESTAQUE': bool,\n",
    "                                   #'NR_LATITUDE_y': float, 'NR_LONGITUDE_y': float,\n",
    "                                   #'NR_ATENDIMENTO': int,\n",
    "                                   'DSC_TERMO_CIRCUNSTANCIADO_PMDF': str},\n",
    "                          parse_dates = ['DT_FINALIZADO', 'DT_CADASTRO', 'DT_LIBERAR_FECHAMENTO']\n",
    "                          )\n"
   ]
  },
  {
   "cell_type": "code",
   "execution_count": 6,
   "id": "a5e01f56-b8bd-4fc2-9f1a-bc9c7505101a",
   "metadata": {},
   "outputs": [],
   "source": [
    "atendimento['NR_LATITUDE_y'] = atendimento['NR_LATITUDE_y'].astype(float)\n",
    "atendimento['NR_LONGITUDE_y'] = atendimento['NR_LONGITUDE_y'].astype(float)\n",
    "\n"
   ]
  },
  {
   "cell_type": "markdown",
   "id": "791e6447-6b9c-4da2-9af9-7def620c9288",
   "metadata": {},
   "source": [
    "# Plot Functions"
   ]
  },
  {
   "cell_type": "code",
   "execution_count": 3,
   "id": "4b49124b-4eaf-44bd-8894-65edeee5af98",
   "metadata": {},
   "outputs": [],
   "source": [
    "def plot_groupbar(df, coluna, limit=0, sort = True, nome = ''):\n",
    "    if sort:\n",
    "        agrupado = df[['COD_ATENDIMENTO', coluna]].groupby(coluna).count().sort_values(by = 'COD_ATENDIMENTO', ascending=False)\n",
    "    else:\n",
    "        agrupado = df[['COD_ATENDIMENTO', coluna]].groupby(coluna).count()\n",
    "\n",
    "    if limit:\n",
    "        agrupado.head(limit).plot(kind = 'bar')\n",
    "    else:  \n",
    "        agrupado.plot(kind = 'bar')\n",
    "\n",
    "    if flag_export_plots:\n",
    "        plt.savefig('plots/' + nome + '_' + coluna + '.png')"
   ]
  },
  {
   "cell_type": "code",
   "execution_count": 4,
   "id": "d6b865a3-2143-4d7d-b733-cb58915471ed",
   "metadata": {},
   "outputs": [
    {
     "data": {
      "text/plain": [
       "COD_ATENDIMENTO                   788484\n",
       "COD_TELEATENDIMENTO               508056\n",
       "DSC_HISTORICO                     523010\n",
       "DT_FINALIZADO                     788407\n",
       "DT_CADASTRO                       648651\n",
       "DESTAQUE                               2\n",
       "DT_LIBERAR_FECHAMENTO             788407\n",
       "DSC_TERMO_CIRCUNSTANCIADO_PMDF       460\n",
       "COD_TIPO_UNIDADE                       3\n",
       "DSC_UNIDADE                           64\n",
       "DSC_AGENCIA                           11\n",
       "NM_SIGLA                              11\n",
       "NR_ATENDIMENTO                    508043\n",
       "NR_LATITUDE_y                      29651\n",
       "NR_LONGITUDE_y                     30809\n",
       "DSC_BAIRRO                           241\n",
       "DSC_CIDADE                            51\n",
       "DSC_NATUREZA                         553\n",
       "DSC_NATUREZA_GRUPO                     5\n",
       "DSC_NATUREZA_SUBGRUPO                 13\n",
       "DSC_NATUREZA_INICIAL                 541\n",
       "DSC_NATUREZA_GRUPO_INICIAL             5\n",
       "DSC_NATUREZA_SUBGRUPO_INICIAL         13\n",
       "NM_TIPO_DESFECHO                      34\n",
       "dtype: int64"
      ]
     },
     "execution_count": 4,
     "metadata": {},
     "output_type": "execute_result"
    }
   ],
   "source": [
    "atendimento.nunique()"
   ]
  },
  {
   "cell_type": "code",
   "execution_count": 5,
   "id": "c02a4c7a-4e9d-4515-83b4-7a142877f6aa",
   "metadata": {},
   "outputs": [
    {
     "data": {
      "text/plain": [
       "COD_ATENDIMENTO                        0\n",
       "COD_TELEATENDIMENTO                    0\n",
       "DSC_HISTORICO                          0\n",
       "DT_FINALIZADO                          0\n",
       "DT_CADASTRO                            0\n",
       "DESTAQUE                               0\n",
       "DT_LIBERAR_FECHAMENTO                  0\n",
       "DSC_TERMO_CIRCUNSTANCIADO_PMDF    788021\n",
       "COD_TIPO_UNIDADE                       0\n",
       "DSC_UNIDADE                            0\n",
       "DSC_AGENCIA                            0\n",
       "NM_SIGLA                               0\n",
       "NR_ATENDIMENTO                         0\n",
       "NR_LATITUDE_y                     475389\n",
       "NR_LONGITUDE_y                    475389\n",
       "DSC_BAIRRO                             0\n",
       "DSC_CIDADE                             0\n",
       "DSC_NATUREZA                           0\n",
       "DSC_NATUREZA_GRUPO                     0\n",
       "DSC_NATUREZA_SUBGRUPO                  0\n",
       "DSC_NATUREZA_INICIAL                   0\n",
       "DSC_NATUREZA_GRUPO_INICIAL             0\n",
       "DSC_NATUREZA_SUBGRUPO_INICIAL          0\n",
       "NM_TIPO_DESFECHO                       0\n",
       "dtype: int64"
      ]
     },
     "execution_count": 5,
     "metadata": {},
     "output_type": "execute_result"
    }
   ],
   "source": [
    "atendimento.isnull().sum()"
   ]
  },
  {
   "cell_type": "markdown",
   "id": "2f37b6ad-8464-46c7-a30c-3a313eab23fa",
   "metadata": {},
   "source": [
    "# Análise do Segurança Pública pelo CBMDF"
   ]
  },
  {
   "cell_type": "code",
   "execution_count": 9,
   "id": "242d7f90-7dac-4a70-8ff5-bfb60a8ffbd1",
   "metadata": {},
   "outputs": [],
   "source": [
    "at_cbmdf = atendimento[atendimento.NM_SIGLA == 'CBMDF']"
   ]
  },
  {
   "cell_type": "code",
   "execution_count": 11,
   "id": "3ee48664-5cf3-4d83-9ca4-9cccb676b33b",
   "metadata": {},
   "outputs": [
    {
     "data": {
      "text/plain": [
       "(265154, 24)"
      ]
     },
     "execution_count": 11,
     "metadata": {},
     "output_type": "execute_result"
    }
   ],
   "source": [
    "at_cbmdf.shape"
   ]
  },
  {
   "cell_type": "code",
   "execution_count": 14,
   "id": "e542b028-be63-4ccc-94ae-7cc4a31e9501",
   "metadata": {
    "tags": []
   },
   "outputs": [],
   "source": [
    "por_natureza = at_cbmdf[['COD_ATENDIMENTO', 'DSC_NATUREZA']].groupby('DSC_NATUREZA').count().sort_values(by = 'COD_ATENDIMENTO', ascending=False)"
   ]
  },
  {
   "cell_type": "code",
   "execution_count": 18,
   "id": "efa37286-daa9-4bf3-a39c-e9d741ef1556",
   "metadata": {},
   "outputs": [
    {
     "data": {
      "text/plain": [
       "(114, 1)"
      ]
     },
     "execution_count": 18,
     "metadata": {},
     "output_type": "execute_result"
    }
   ],
   "source": [
    "por_natureza.shape"
   ]
  },
  {
   "cell_type": "code",
   "execution_count": 21,
   "id": "19a55a11-596c-4076-9b00-2bb2b9562a0c",
   "metadata": {},
   "outputs": [],
   "source": [
    "por_natureza.to_excel(datapath + 'criados/Npor_natureza.xlsx')"
   ]
  },
  {
   "cell_type": "code",
   "execution_count": null,
   "id": "b83cc47a-62c6-42a4-80ec-c81f44845440",
   "metadata": {},
   "outputs": [],
   "source": []
  }
 ],
 "metadata": {
  "kernelspec": {
   "display_name": "Python 3 (ipykernel)",
   "language": "python",
   "name": "python3"
  },
  "language_info": {
   "codemirror_mode": {
    "name": "ipython",
    "version": 3
   },
   "file_extension": ".py",
   "mimetype": "text/x-python",
   "name": "python",
   "nbconvert_exporter": "python",
   "pygments_lexer": "ipython3",
   "version": "3.9.12"
  }
 },
 "nbformat": 4,
 "nbformat_minor": 5
}
