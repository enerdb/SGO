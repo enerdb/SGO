{
 "cells": [
  {
   "cell_type": "markdown",
   "id": "6580b798-1ff3-4e29-b32b-42a1532aae7f",
   "metadata": {},
   "source": [
    "# Descrição do projeto"
   ]
  },
  {
   "cell_type": "markdown",
   "id": "da2302da-338c-4fa3-b93b-c854dec4cac6",
   "metadata": {},
   "source": [
    "Este projeto visa cirar uma tabela (Data Mart) que serve como referência para análise de atendimentos do CBMDF."
   ]
  },
  {
   "cell_type": "markdown",
   "id": "0071387a",
   "metadata": {},
   "source": [
    "# Imports and Setup"
   ]
  },
  {
   "cell_type": "code",
   "execution_count": 1,
   "id": "b51aa955",
   "metadata": {},
   "outputs": [
    {
     "name": "stderr",
     "output_type": "stream",
     "text": [
      "Matplotlib is building the font cache; this may take a moment.\n"
     ]
    }
   ],
   "source": [
    "import pandas as pd\n",
    "import matplotlib.pyplot as plt\n",
    "import seaborn as sns\n",
    "\n",
    "%matplotlib inline\n",
    "plt.rcParams['figure.figsize'] = [15, 7]\n",
    "\n",
    "flag_logs = False\n",
    "flag_export_plots = False\n",
    "\n",
    "datapath = '../SGO_data/'"
   ]
  },
  {
   "cell_type": "code",
   "execution_count": null,
   "id": "258f1e87-8929-42cd-a611-f983939cddf6",
   "metadata": {},
   "outputs": [],
   "source": []
  },
  {
   "cell_type": "markdown",
   "id": "986d04c9",
   "metadata": {},
   "source": [
    "# Cleaning functions"
   ]
  },
  {
   "cell_type": "code",
   "execution_count": 19,
   "id": "0cd868dd",
   "metadata": {},
   "outputs": [],
   "source": [
    "def string_ate_ponto(string):\n",
    "    return string.split('.')[0]\n",
    "\n",
    "def arruma_data_hora(df, coluna):\n",
    "    df[coluna] = df[coluna].apply(string_ate_ponto)\n",
    "    df[coluna] = pd.to_datetime(df[coluna], format = '%Y/%m/%d %H:%M:%S')\n",
    "    return df\n",
    "    "
   ]
  },
  {
   "cell_type": "code",
   "execution_count": 4,
   "id": "1db8c1d5",
   "metadata": {},
   "outputs": [],
   "source": [
    "def time_decompose(df, coluna):\n",
    "    df[coluna + '_ANO'] = df[coluna].dt.year\n",
    "    df[coluna + '_MES'] = df[coluna].dt.month\n",
    "    df[coluna + '_DIASEM'] = df[coluna].dt.dayofweek\n",
    "    df[coluna + '_HORA'] = df[coluna].dt.hour\n",
    "    df[coluna + '_HORARIO'] = df[coluna].dt.time\n",
    "    \n",
    "    return df"
   ]
  },
  {
   "cell_type": "markdown",
   "id": "ee7d5bcb",
   "metadata": {},
   "source": [
    "# Extraction"
   ]
  },
  {
   "cell_type": "markdown",
   "id": "f9ee8d7d",
   "metadata": {
    "tags": []
   },
   "source": [
    "## Extract Functions"
   ]
  },
  {
   "cell_type": "code",
   "execution_count": 2,
   "id": "8a5540cb",
   "metadata": {},
   "outputs": [],
   "source": [
    "# Funções revisadas\n",
    "# Falta corrigir tipos de dados\n",
    "\n",
    "def extrai_unidade():\n",
    "    # Extrai tabela unidade\n",
    "    unidade_raw = pd.read_csv(datapath + 'TA/TA_UNIDADE.csv')\n",
    "    \n",
    "    # Filtra colunas úteis\n",
    "    cols = ['COD_UNIDADE', 'DSC_UNIDADE', 'COD_AGENCIA', 'COD_TIPO_UNIDADE']  \n",
    "    unidade = unidade_raw[cols]\n",
    "    \n",
    "    # Extrai tabela agencia\n",
    "    agencia = pd.read_csv(datapath + 'TA/TA_AGENCIA.csv')['COD_AGENCIA DSC_AGENCIA NM_SIGLA'.split()]\n",
    "    \n",
    "    # Mescla unidade e agência\n",
    "    unidade_plus = unidade.merge(agencia, on = 'COD_AGENCIA')[['COD_UNIDADE', 'COD_TIPO_UNIDADE', 'DSC_UNIDADE', 'DSC_AGENCIA', 'NM_SIGLA']]\n",
    "    \n",
    "    # Retorna DataFrame ajustado\n",
    "    return unidade_plus\n",
    "  \n",
    "    "
   ]
  },
  {
   "cell_type": "code",
   "execution_count": 5,
   "id": "dd8c22f4",
   "metadata": {},
   "outputs": [],
   "source": [
    "def extrai_natureza():\n",
    "    \n",
    "    # Natureza\n",
    "    natureza_raw = pd.read_csv(datapath + 'TA/TA_NATUREZA.csv')\n",
    "    cols_to_drop = \"\"\"\n",
    "    NR_SENASP DT_EXCLUSAO_LOGICA COD_USUARIO_OPER_EXCLUSAO_LOGICA COD_USUARIO_OPER_ULTIMO_UPDATE COD_USUARIO_OPER NR_NATUREZA_INDICE DSC_PUBLICACAO DT_CADASTRO COD_USUARIO_OPER DSC_CODIGO COD_USUARIO_OPER_CADASTRO \n",
    "    DT_ULTIMO_UPDATE FLG_ALERTA_GERAL FLG_DESPACHO_IMEDIATO TXT_PROTOCOLO_ATENDIMENTO FLG_AVISO_SONORO DSC_MEDIA_AVISO_SONORO FLG_CAPTURA_PLACA_VEICULO FLG_CAPTURA_PLACA_QUARENTENA\n",
    "    \"\"\".split()\n",
    "    natureza = natureza_raw.drop(columns = cols_to_drop)\n",
    "    \n",
    "    # Natureza_grupo\n",
    "    natureza_grupo_raw = pd.read_csv(datapath + 'TA/TA_NATUREZA_GRUPO.csv')\n",
    "    natureza_grupo = natureza_grupo_raw['COD_NATUREZA_GRUPO DSC_NATUREZA_GRUPO'.split()]\n",
    "    \n",
    "    # Natureza_subgrupo\n",
    "    natureza_subgrupo_raw = pd.read_csv(datapath + 'TA/TA_NATUREZA_SUBGRUPO.csv')\n",
    "    # DSC_COD é utilizado para organizar os painéis de seleção.\n",
    "    natureza_subgrupo = natureza_subgrupo_raw['COD_NATUREZA_SUBGRUPO COD_NATUREZA_GRUPO DSC_NATUREZA_SUBGRUPO'.split()]\n",
    "\n",
    "        # Mescla grupo e subgrupo\n",
    "    natureza_plus1 = natureza.merge(natureza_grupo, on = 'COD_NATUREZA_GRUPO').drop(columns = ['COD_NATUREZA_GRUPO'])\n",
    "    natureza_plus2 = natureza_plus1.merge(natureza_subgrupo, on = 'COD_NATUREZA_SUBGRUPO').drop(columns = ['COD_NATUREZA_SUBGRUPO'])\n",
    "    \n",
    "    return natureza_plus2"
   ]
  },
  {
   "cell_type": "code",
   "execution_count": 6,
   "id": "adf31ecf",
   "metadata": {},
   "outputs": [],
   "source": [
    "def extrai_desfecho():\n",
    "    desfecho_raw = pd.read_csv(datapath + 'TA/TA_TIPO_DESFECHO.csv')\n",
    "    desfecho = desfecho_raw[['COD_TIPO_DESFECHO', 'NM_TIPO_DESFECHO']]\n",
    "    return desfecho"
   ]
  },
  {
   "cell_type": "code",
   "execution_count": 7,
   "id": "e0e59fd8",
   "metadata": {},
   "outputs": [],
   "source": [
    "def extrai_local():\n",
    "    #local_uf_raw = pd.read_csv('data/TA_LOCAL_UF.csv')\n",
    "    #local_uf = local_uf_raw.drop(columns = 'GM_SHAPE_UF DT_CADASTRO DT_EXCLUSAO_LOGICA COD_USUARIO_OPER'.split())\n",
    "    local_cidade_raw = pd.read_csv(datapath + 'TA/TA_LOCAL_CIDADE.csv')\n",
    "    local_cidade = local_cidade_raw.drop(columns = 'GM_SHAPE_CIDADE NU_RA DT_CADASTRO DT_EXCLUSAO_LOGICA COD_USUARIO_OPER'.split())\n",
    "    local_bairro_raw = pd.read_csv(datapath + 'TA/TA_LOCAL_BAIRRO.csv')\n",
    "    local_bairro = local_bairro_raw.drop(columns = 'GM_SHAPE_BAIRRO DT_CADASTRO DT_EXCLUSAO_LOGICA COD_USUARIO_OPER '.split())\n",
    "    \n",
    "    return local_bairro.merge(local_cidade, on = 'COD_CIDADE')[['COD_BAIRRO', 'DSC_BAIRRO', 'DSC_CIDADE']]\n",
    "    "
   ]
  },
  {
   "cell_type": "code",
   "execution_count": 16,
   "id": "df796ae9",
   "metadata": {},
   "outputs": [],
   "source": [
    "def extrai_atendimento(anos): # Passar anos como lista de strings\n",
    "    lista_df_raw = []\n",
    "    for i, ano in enumerate(anos):\n",
    "        lista_df_raw.append(pd.read_csv(datapath + f\"TP_ATENDIMENTO/atendimento{ano}.csv\"))\n",
    "    \n",
    "    atendimento = pd.concat(lista_df_raw)\n",
    "    atendimento = atendimento.dropna(subset = ['DT_FINALIZADO'])\n",
    "\n",
    "    cols_to_drop = \"\"\"\n",
    "    DT_EXCLUSAO_LOGICA COD_USUARIO_OPER NR_AREA\n",
    "    \"\"\".split()\n",
    "    \n",
    "    atendimento = atendimento.drop(columns = cols_to_drop)\n",
    "    \n",
    "    # Ajusta tipo dos dados\n",
    "    atendimento = arruma_data_hora(atendimento, 'DT_CADASTRO')\n",
    "    \n",
    "    return atendimento"
   ]
  },
  {
   "cell_type": "code",
   "execution_count": 9,
   "id": "5ed32d0a",
   "metadata": {},
   "outputs": [],
   "source": [
    "def extrai_teleatendimento(anos):\n",
    "    lista_df_raw = []\n",
    "    for i, ano in enumerate(anos):\n",
    "        lista_df_raw.append(pd.read_csv(datapath + f\"TP_TELE_ATENDIMENTO/tele{ano}.csv\"))\n",
    "    \n",
    "    teleatendimento = pd.concat(lista_df_raw)\n",
    "\n",
    "    cols = \"\"\"\n",
    "    COD_TELEATENDIMENTO COD_TIPO_TELEATENDIMENTO NR_ATENDIMENTO COD_NATUREZA COD_BAIRRO NR_LATITUDE NR_LONGITUDE LISTA_UNIDADES DT_FATO\n",
    "    \"\"\".split()\n",
    "    \n",
    "    # cols = ['COD_TELEATENDIMENTO', 'COD_BAIRRO']\n",
    "    \n",
    "    teleatendimento = teleatendimento[cols]\n",
    "    # teleatendimento = arruma_data_hora(teleatendimento, 'DT_FATO')\n",
    "    \n",
    "    teleatendimento.rename(columns = {'COD_NATUREZA':'COD_NATUREZA_INICIAL'}, inplace = True)\n",
    "\n",
    "    \n",
    "    return teleatendimento"
   ]
  },
  {
   "cell_type": "markdown",
   "id": "943615ca",
   "metadata": {
    "tags": []
   },
   "source": [
    "## Full Extraction Function"
   ]
  },
  {
   "cell_type": "code",
   "execution_count": 11,
   "id": "fe90811b",
   "metadata": {},
   "outputs": [],
   "source": [
    "def extract_full(anos): # Passar anos como lista de strings\n",
    "    \n",
    "    extracted = {}\n",
    "    \n",
    "    extracted['unidade'] =  extrai_unidade()\n",
    "    extracted['natureza'] = extrai_natureza()\n",
    "    extracted['desfecho'] = extrai_desfecho()\n",
    "    extracted['local'] = extrai_local()\n",
    "    extracted['atendimento'] = extrai_atendimento(anos)\n",
    "    extracted['tele'] = extrai_teleatendimento(anos)\n",
    "    \n",
    "    return extracted"
   ]
  },
  {
   "cell_type": "markdown",
   "id": "06dc85c8",
   "metadata": {
    "tags": []
   },
   "source": [
    "## Merge Functions"
   ]
  },
  {
   "cell_type": "code",
   "execution_count": 36,
   "id": "e5a6ee68",
   "metadata": {},
   "outputs": [],
   "source": [
    "def merge_dims(all_dfs):\n",
    "    \n",
    "    atendimento = all_dfs['atendimento']\n",
    "    unidade = all_dfs['unidade']\n",
    "    tele = all_dfs['tele']\n",
    "    local = all_dfs['local']\n",
    "    desfecho = all_dfs['desfecho']\n",
    "    natureza = all_dfs['natureza']\n",
    "    \n",
    "    atendimento_plus1 = atendimento.merge(unidade, on = 'COD_UNIDADE').drop(columns = ['COD_UNIDADE'])\n",
    "    atendimento_plus2 = atendimento_plus1.merge(tele, on = 'COD_TELEATENDIMENTO')\n",
    "    atendimento_plus3 = atendimento_plus2.merge(local, on = 'COD_BAIRRO').drop(columns = ['COD_BAIRRO'])\n",
    "    atendimento_plus4 = atendimento_plus3.merge(natureza,  left_on = 'COD_NATUREZA_FINAL', right_on = 'COD_NATUREZA', suffixes = (None, '_FINAL')).drop(columns = ['COD_NATUREZA_FINAL', 'COD_NATUREZA'])\n",
    "    atendimento_plus5 = atendimento_plus4.merge(natureza,  left_on = 'COD_NATUREZA_INICIAL', right_on = 'COD_NATUREZA', suffixes = (None, '_INICIAL')).drop(columns = ['COD_NATUREZA_INICIAL', 'COD_NATUREZA'])\n",
    "    atendimento_plus6 = atendimento_plus5.merge(desfecho, left_on = 'COD_TIPO_DEFECHO_OCORRENCIA', right_on = 'COD_TIPO_DESFECHO').drop(columns = ['COD_TIPO_DEFECHO_OCORRENCIA', 'COD_TIPO_DESFECHO'])\n",
    "    \n",
    "    \n",
    "    return atendimento_plus6"
   ]
  },
  {
   "cell_type": "markdown",
   "id": "2abbacda-4670-43a7-8262-8ba941f41cd8",
   "metadata": {},
   "source": [
    "# Teste"
   ]
  },
  {
   "cell_type": "code",
   "execution_count": 20,
   "id": "41ebac70-9bec-47f6-a005-6f2611ce2fde",
   "metadata": {},
   "outputs": [
    {
     "name": "stdout",
     "output_type": "stream",
     "text": [
      "anos = ['2021']\n",
      "i =0\n",
      "ano =2021\n",
      "Extraindo antendimento2021\n"
     ]
    },
    {
     "name": "stderr",
     "output_type": "stream",
     "text": [
      "C:\\Users\\ener.beckmann\\AppData\\Local\\Temp\\ipykernel_8060\\4014410962.py:4: DtypeWarning: Columns (14,21,23,24,31,42) have mixed types. Specify dtype option on import or set low_memory=False.\n",
      "  lista_df_raw.append(pd.read_csv(datapath + f\"TP_TELE_ATENDIMENTO/tele{ano}.csv\"))\n"
     ]
    }
   ],
   "source": [
    "df = extract_full(['2021'])"
   ]
  },
  {
   "cell_type": "code",
   "execution_count": 26,
   "id": "020a0eb1-b11d-4658-ab07-cf49652f2ecd",
   "metadata": {},
   "outputs": [
    {
     "name": "stdout",
     "output_type": "stream",
     "text": [
      "unidade\n",
      "Index(['COD_UNIDADE', 'COD_TIPO_UNIDADE', 'DSC_UNIDADE', 'DSC_AGENCIA',\n",
      "       'NM_SIGLA'],\n",
      "      dtype='object')\n",
      "natureza\n",
      "Index(['COD_NATUREZA', 'COD_NATUREZA_PAI', 'COD_CONFIG_INSTITUICAO',\n",
      "       'COD_AGENCIA', 'DSC_NATUREZA', 'DSC_NATUREZA_GRUPO',\n",
      "       'COD_NATUREZA_GRUPO', 'DSC_NATUREZA_SUBGRUPO'],\n",
      "      dtype='object')\n",
      "desfecho\n",
      "Index(['COD_TIPO_DESFECHO', 'NM_TIPO_DESFECHO'], dtype='object')\n",
      "local\n",
      "Index(['COD_BAIRRO', 'DSC_BAIRRO', 'DSC_CIDADE'], dtype='object')\n",
      "atendimento\n",
      "Index(['Unnamed: 0', 'COD_ATENDIMENTO', 'COD_TELEATENDIMENTO', 'COD_UNIDADE',\n",
      "       'COD_NATUREZA_FINAL', 'DSC_HISTORICO', 'DT_FINALIZADO', 'DT_CADASTRO',\n",
      "       'COD_TIPO_DEFECHO_OCORRENCIA', 'DESTAQUE', 'NR_LATITUDE',\n",
      "       'NR_LONGITUDE', 'DT_LIBERAR_FECHAMENTO',\n",
      "       'DSC_TERMO_CIRCUNSTANCIADO_PMDF'],\n",
      "      dtype='object')\n",
      "tele\n",
      "Index(['COD_TELEATENDIMENTO', 'COD_TIPO_TELEATENDIMENTO', 'NR_ATENDIMENTO',\n",
      "       'COD_NATUREZA', 'COD_BAIRRO', 'NR_LATITUDE', 'NR_LONGITUDE',\n",
      "       'LISTA_UNIDADES', 'DT_FATO'],\n",
      "      dtype='object')\n"
     ]
    }
   ],
   "source": [
    "for name, frame in df.items():\n",
    "    print(name)\n",
    "    print(frame.columns)"
   ]
  },
  {
   "cell_type": "code",
   "execution_count": 27,
   "id": "5f942f92-061c-4f5c-9346-2f4cef85f0a7",
   "metadata": {},
   "outputs": [],
   "source": [
    "df['tele'].rename(columns = {'COD_NATUREZA':'COD_NATUREZA_INICIAL'}, inplace = True)\n"
   ]
  },
  {
   "cell_type": "code",
   "execution_count": 28,
   "id": "74e47aa4-cca5-4190-ba96-4cd6f83d0ae5",
   "metadata": {},
   "outputs": [
    {
     "data": {
      "text/plain": [
       "Index(['COD_TELEATENDIMENTO', 'COD_TIPO_TELEATENDIMENTO', 'NR_ATENDIMENTO',\n",
       "       'COD_NATUREZA_INICIAL', 'COD_BAIRRO', 'NR_LATITUDE', 'NR_LONGITUDE',\n",
       "       'LISTA_UNIDADES', 'DT_FATO'],\n",
       "      dtype='object')"
      ]
     },
     "execution_count": 28,
     "metadata": {},
     "output_type": "execute_result"
    }
   ],
   "source": [
    "df['tele'].columns"
   ]
  },
  {
   "cell_type": "code",
   "execution_count": 37,
   "id": "08f9a78b-278f-4c56-acdf-05a5291d88a6",
   "metadata": {},
   "outputs": [],
   "source": [
    "full_df = merge_dims(df)"
   ]
  },
  {
   "cell_type": "code",
   "execution_count": 40,
   "id": "878bbd37-92ed-483b-b72d-844b349db6d7",
   "metadata": {},
   "outputs": [],
   "source": [
    "full_df.to_csv(datapath + 'criados/atendimento_plus.csv')"
   ]
  },
  {
   "cell_type": "code",
   "execution_count": 57,
   "id": "7792f194-064e-4d18-84c8-9dc0263332d0",
   "metadata": {},
   "outputs": [
    {
     "data": {
      "text/plain": [
       "Unnamed: 0                        788485\n",
       "COD_ATENDIMENTO                   788484\n",
       "COD_TELEATENDIMENTO               508056\n",
       "DSC_HISTORICO                     523010\n",
       "DT_FINALIZADO                     788407\n",
       "DT_CADASTRO                       648651\n",
       "DESTAQUE                               2\n",
       "NR_LATITUDE_x                          0\n",
       "NR_LONGITUDE_x                         0\n",
       "DT_LIBERAR_FECHAMENTO             788407\n",
       "DSC_TERMO_CIRCUNSTANCIADO_PMDF       460\n",
       "COD_TIPO_UNIDADE                       3\n",
       "DSC_UNIDADE                           64\n",
       "DSC_AGENCIA                           11\n",
       "NM_SIGLA                              11\n",
       "COD_TIPO_TELEATENDIMENTO               1\n",
       "NR_ATENDIMENTO                    508043\n",
       "NR_LATITUDE_y                      27026\n",
       "NR_LONGITUDE_y                     28241\n",
       "LISTA_UNIDADES                      1082\n",
       "DT_FATO                                0\n",
       "DSC_BAIRRO                           241\n",
       "DSC_CIDADE                            51\n",
       "COD_NATUREZA_PAI                      39\n",
       "COD_CONFIG_INSTITUICAO                 1\n",
       "COD_AGENCIA                            3\n",
       "DSC_NATUREZA                         553\n",
       "DSC_NATUREZA_GRUPO                     5\n",
       "COD_NATUREZA_GRUPO                     5\n",
       "DSC_NATUREZA_SUBGRUPO                 13\n",
       "COD_NATUREZA_PAI_INICIAL              39\n",
       "COD_CONFIG_INSTITUICAO_INICIAL         1\n",
       "COD_AGENCIA_INICIAL                    2\n",
       "DSC_NATUREZA_INICIAL                 541\n",
       "DSC_NATUREZA_GRUPO_INICIAL             5\n",
       "COD_NATUREZA_GRUPO_INICIAL             5\n",
       "DSC_NATUREZA_SUBGRUPO_INICIAL         13\n",
       "NM_TIPO_DESFECHO                      34\n",
       "dtype: int64"
      ]
     },
     "metadata": {},
     "output_type": "display_data"
    }
   ],
   "source": [
    "display(full_df.nunique())"
   ]
  },
  {
   "cell_type": "code",
   "execution_count": 51,
   "id": "6557fff8-6a8f-4f24-afd8-86414f714d90",
   "metadata": {},
   "outputs": [],
   "source": [
    "recanto = full_df[full_df['DSC_CIDADE'] == 'RECANTO DAS EMAS']"
   ]
  },
  {
   "cell_type": "code",
   "execution_count": 55,
   "id": "070034e8-a242-4156-9c36-b7b7aafc7b0a",
   "metadata": {},
   "outputs": [],
   "source": [
    "recanto_op = recanto[recanto['COD_TIPO_UNIDADE'] == 2]"
   ]
  },
  {
   "cell_type": "code",
   "execution_count": 56,
   "id": "6b42498b-883b-4bbb-8d7f-c7882b07fe21",
   "metadata": {},
   "outputs": [
    {
     "data": {
      "text/plain": [
       "Unnamed: 0                        4894\n",
       "COD_ATENDIMENTO                   4894\n",
       "COD_TELEATENDIMENTO               4059\n",
       "DSC_HISTORICO                     4702\n",
       "DT_FINALIZADO                     4894\n",
       "DT_CADASTRO                       4878\n",
       "DESTAQUE                             1\n",
       "NR_LATITUDE_x                        0\n",
       "NR_LONGITUDE_x                       0\n",
       "DT_LIBERAR_FECHAMENTO             4894\n",
       "DSC_TERMO_CIRCUNSTANCIADO_PMDF       0\n",
       "COD_TIPO_UNIDADE                     1\n",
       "DSC_UNIDADE                         24\n",
       "DSC_AGENCIA                          1\n",
       "NM_SIGLA                             1\n",
       "COD_TIPO_TELEATENDIMENTO             1\n",
       "NR_ATENDIMENTO                    4059\n",
       "NR_LATITUDE_y                     2797\n",
       "NR_LONGITUDE_y                    2846\n",
       "LISTA_UNIDADES                      35\n",
       "DT_FATO                              0\n",
       "DSC_BAIRRO                           2\n",
       "DSC_CIDADE                           1\n",
       "COD_NATUREZA_PAI                     6\n",
       "COD_CONFIG_INSTITUICAO               1\n",
       "COD_AGENCIA                          1\n",
       "DSC_NATUREZA                        87\n",
       "DSC_NATUREZA_GRUPO                   5\n",
       "COD_NATUREZA_GRUPO                   5\n",
       "DSC_NATUREZA_SUBGRUPO               13\n",
       "COD_NATUREZA_PAI_INICIAL            29\n",
       "COD_CONFIG_INSTITUICAO_INICIAL       1\n",
       "COD_AGENCIA_INICIAL                  2\n",
       "DSC_NATUREZA_INICIAL               148\n",
       "DSC_NATUREZA_GRUPO_INICIAL           5\n",
       "COD_NATUREZA_GRUPO_INICIAL           5\n",
       "DSC_NATUREZA_SUBGRUPO_INICIAL       13\n",
       "NM_TIPO_DESFECHO                    26\n",
       "dtype: int64"
      ]
     },
     "execution_count": 56,
     "metadata": {},
     "output_type": "execute_result"
    }
   ],
   "source": [
    "recanto_op.nunique()"
   ]
  },
  {
   "cell_type": "code",
   "execution_count": 58,
   "id": "edb7480a-9d09-449f-9908-2f27834d70eb",
   "metadata": {},
   "outputs": [],
   "source": [
    "import ipywidgets as widgets\n",
    "from IPython import display"
   ]
  },
  {
   "cell_type": "code",
   "execution_count": 59,
   "id": "46f21bdb-3e9a-49e2-9cbc-0a9376825b6a",
   "metadata": {},
   "outputs": [],
   "source": [
    "widget1 = widgets.Output()\n"
   ]
  },
  {
   "cell_type": "code",
   "execution_count": 61,
   "id": "fde0264d-d092-4822-b79b-ac31ec6d9ac1",
   "metadata": {},
   "outputs": [],
   "source": [
    "with widget1:\n",
    "    display.display(recanto_op)"
   ]
  },
  {
   "cell_type": "code",
   "execution_count": 62,
   "id": "be8e12ed-c5a5-415a-8cf2-5ba58af63e71",
   "metadata": {},
   "outputs": [],
   "source": [
    "hbox = widgets.HBox([widget1])"
   ]
  },
  {
   "cell_type": "code",
   "execution_count": 63,
   "id": "0f04efa5-8a72-403f-a15c-f3518c638168",
   "metadata": {},
   "outputs": [
    {
     "data": {
      "application/vnd.jupyter.widget-view+json": {
       "model_id": "a820061f995c41fd9366adea3ad07bfe",
       "version_major": 2,
       "version_minor": 0
      },
      "text/plain": [
       "HBox(children=(Output(outputs=({'output_type': 'display_data', 'data': {'text/plain': 'Unnamed: 0             …"
      ]
     },
     "metadata": {},
     "output_type": "display_data"
    }
   ],
   "source": [
    "hbox"
   ]
  },
  {
   "cell_type": "code",
   "execution_count": null,
   "id": "5ec576b6-3d78-4330-ad6b-deb4f15c7b8a",
   "metadata": {},
   "outputs": [],
   "source": []
  },
  {
   "cell_type": "code",
   "execution_count": null,
   "id": "450660c7-015f-41b6-a417-7f1ebc97c0eb",
   "metadata": {},
   "outputs": [],
   "source": []
  },
  {
   "cell_type": "code",
   "execution_count": null,
   "id": "4309ec64-cb02-41a8-a0d7-1cba76a8e016",
   "metadata": {},
   "outputs": [],
   "source": []
  },
  {
   "cell_type": "code",
   "execution_count": null,
   "id": "00f3dfef-d9a7-4882-8fd6-72941a747165",
   "metadata": {},
   "outputs": [],
   "source": [
    "full_atendimento = merge_dims(atendimento, tele, unidade, local, natureza)\n",
    "    sel_atendimento = select_columns(full_atendimento)\n",
    "    atendimento_filtrado = filter_rows(sel_atendimento)\n",
    "    \n",
    "    return atendimento_filtrado"
   ]
  },
  {
   "cell_type": "code",
   "execution_count": 104,
   "id": "06bd19a6",
   "metadata": {},
   "outputs": [],
   "source": [
    "def filtra_operacionais(df):\n",
    "    df_filtered = df[(df['COD_TIPO_UNIDADE'] == 2) | (df['COD_TIPO_UNIDADE'] == 5) | (df['COD_TIPO_UNIDADE'] == 6)]\n",
    "    return df_filtered"
   ]
  },
  {
   "cell_type": "code",
   "execution_count": 105,
   "id": "9f2cf675",
   "metadata": {},
   "outputs": [],
   "source": [
    "def filter_rows(df):\n",
    "    filtered = df.dropna(subset = ['DT_CADASTRO'])\n",
    "     \n",
    "    \n",
    "\n",
    "        \n",
    "    filtered1 = filtra_operacionais(filtered)\n",
    "    \n",
    "    return filtered1"
   ]
  },
  {
   "cell_type": "markdown",
   "id": "f552b62d",
   "metadata": {},
   "source": [
    "## Column Selection Functions"
   ]
  },
  {
   "cell_type": "code",
   "execution_count": 100,
   "id": "cd7db2f1",
   "metadata": {},
   "outputs": [],
   "source": [
    "def select_columns(df):\n",
    "    print(f\"Colunas antes da selecao: {df.columns}\")\n",
    "    columns = ['COD_ATENDIMENTO', 'DT_CADASTRO', 'DSC_UNIDADE', 'COD_TIPO_UNIDADE',  'DSC_AGENCIA', 'NM_SIGLA', 'DSC_BAIRRO', 'DSC_CIDADE', 'DSC_NATUREZA', 'DSC_NATUREZA_GRUPO', 'DSC_NATUREZA_SUBGRUPO']\n",
    "    return df[columns]\n"
   ]
  },
  {
   "cell_type": "markdown",
   "id": "3c2012c8",
   "metadata": {},
   "source": [
    "## Row Filtering Functions"
   ]
  },
  {
   "cell_type": "markdown",
   "id": "27776165",
   "metadata": {},
   "source": [
    "## Plot Functions"
   ]
  },
  {
   "cell_type": "code",
   "execution_count": 17,
   "id": "1ebd9be8",
   "metadata": {},
   "outputs": [],
   "source": [
    "def plot_groupbar(df, coluna, limit=0, sort = True, nome = ''):\n",
    "    if sort:\n",
    "        agrupado = df[['COD_ATENDIMENTO', coluna]].groupby(coluna).count().sort_values(by = 'COD_ATENDIMENTO', ascending=False)\n",
    "    else:\n",
    "        agrupado = df[['COD_ATENDIMENTO', coluna]].groupby(coluna).count()\n",
    "\n",
    "    if limit:\n",
    "        agrupado.head(limit).plot(kind = 'bar')\n",
    "    else:  \n",
    "        agrupado.plot(kind = 'bar')\n",
    "\n",
    "    if flag_export_plots:\n",
    "        plt.savefig('plots/' + nome + '_' + coluna + '.png')"
   ]
  },
  {
   "cell_type": "markdown",
   "id": "ecc9102b",
   "metadata": {},
   "source": [
    "# EDA"
   ]
  },
  {
   "cell_type": "code",
   "execution_count": 3,
   "id": "42038402-3c07-43db-83f6-c0775cedde8e",
   "metadata": {},
   "outputs": [],
   "source": [
    "unidade = extrai_unidade()\n"
   ]
  },
  {
   "cell_type": "code",
   "execution_count": 4,
   "id": "2f1ee4c6-e05c-4d6b-91f0-3444bd47348a",
   "metadata": {},
   "outputs": [
    {
     "data": {
      "text/html": [
       "<div>\n",
       "<style scoped>\n",
       "    .dataframe tbody tr th:only-of-type {\n",
       "        vertical-align: middle;\n",
       "    }\n",
       "\n",
       "    .dataframe tbody tr th {\n",
       "        vertical-align: top;\n",
       "    }\n",
       "\n",
       "    .dataframe thead th {\n",
       "        text-align: right;\n",
       "    }\n",
       "</style>\n",
       "<table border=\"1\" class=\"dataframe\">\n",
       "  <thead>\n",
       "    <tr style=\"text-align: right;\">\n",
       "      <th></th>\n",
       "      <th>COD_UNIDADE</th>\n",
       "      <th>COD_TIPO_UNIDADE</th>\n",
       "      <th>DSC_UNIDADE</th>\n",
       "      <th>DSC_AGENCIA</th>\n",
       "      <th>NM_SIGLA</th>\n",
       "    </tr>\n",
       "  </thead>\n",
       "  <tbody>\n",
       "    <tr>\n",
       "      <th>0</th>\n",
       "      <td>1</td>\n",
       "      <td>1</td>\n",
       "      <td>MESA - PCDF</td>\n",
       "      <td>POLÍCIA CIVIL DO DISTRITO FEDERAL</td>\n",
       "      <td>PCDF</td>\n",
       "    </tr>\n",
       "    <tr>\n",
       "      <th>1</th>\n",
       "      <td>5</td>\n",
       "      <td>0</td>\n",
       "      <td>ASSISTENTE DE DESPACHO-PCDF</td>\n",
       "      <td>POLÍCIA CIVIL DO DISTRITO FEDERAL</td>\n",
       "      <td>PCDF</td>\n",
       "    </tr>\n",
       "    <tr>\n",
       "      <th>2</th>\n",
       "      <td>17</td>\n",
       "      <td>1</td>\n",
       "      <td>MESA 01 - PCDF</td>\n",
       "      <td>POLÍCIA CIVIL DO DISTRITO FEDERAL</td>\n",
       "      <td>PCDF</td>\n",
       "    </tr>\n",
       "    <tr>\n",
       "      <th>3</th>\n",
       "      <td>18</td>\n",
       "      <td>1</td>\n",
       "      <td>CEPOL</td>\n",
       "      <td>POLÍCIA CIVIL DO DISTRITO FEDERAL</td>\n",
       "      <td>PCDF</td>\n",
       "    </tr>\n",
       "    <tr>\n",
       "      <th>4</th>\n",
       "      <td>19</td>\n",
       "      <td>1</td>\n",
       "      <td>PEL/IC/IML</td>\n",
       "      <td>POLÍCIA CIVIL DO DISTRITO FEDERAL</td>\n",
       "      <td>PCDF</td>\n",
       "    </tr>\n",
       "  </tbody>\n",
       "</table>\n",
       "</div>"
      ],
      "text/plain": [
       "   COD_UNIDADE  COD_TIPO_UNIDADE                  DSC_UNIDADE  \\\n",
       "0            1                 1                  MESA - PCDF   \n",
       "1            5                 0  ASSISTENTE DE DESPACHO-PCDF   \n",
       "2           17                 1               MESA 01 - PCDF   \n",
       "3           18                 1                        CEPOL   \n",
       "4           19                 1                   PEL/IC/IML   \n",
       "\n",
       "                         DSC_AGENCIA NM_SIGLA  \n",
       "0  POLÍCIA CIVIL DO DISTRITO FEDERAL     PCDF  \n",
       "1  POLÍCIA CIVIL DO DISTRITO FEDERAL     PCDF  \n",
       "2  POLÍCIA CIVIL DO DISTRITO FEDERAL     PCDF  \n",
       "3  POLÍCIA CIVIL DO DISTRITO FEDERAL     PCDF  \n",
       "4  POLÍCIA CIVIL DO DISTRITO FEDERAL     PCDF  "
      ]
     },
     "execution_count": 4,
     "metadata": {},
     "output_type": "execute_result"
    }
   ],
   "source": [
    "unidade.head()"
   ]
  },
  {
   "cell_type": "code",
   "execution_count": 106,
   "id": "df380736",
   "metadata": {},
   "outputs": [
    {
     "name": "stderr",
     "output_type": "stream",
     "text": [
      "C:\\Users\\ENER~1.BEC\\AppData\\Local\\Temp/ipykernel_16000/2697310871.py:9: DtypeWarning: Columns (14,21,23,24,31,42) have mixed types.Specify dtype option on import or set low_memory=False.\n",
      "  tele = extrai_teleatendimento(anos)\n"
     ]
    },
    {
     "name": "stdout",
     "output_type": "stream",
     "text": [
      "Colunas antes da selecao: Index(['Unnamed: 0', 'COD_ATENDIMENTO', 'COD_TELEATENDIMENTO', 'COD_UNIDADE',\n",
      "       'COD_NATUREZA_FINAL', 'DT_CADASTRO', 'COD_TIPO_UNIDADE', 'DSC_UNIDADE',\n",
      "       'DSC_AGENCIA', 'NM_SIGLA', 'COD_BAIRRO', 'DSC_BAIRRO', 'DSC_CIDADE',\n",
      "       'COD_NATUREZA', 'COD_NATUREZA_PAI', 'COD_CONFIG_INSTITUICAO',\n",
      "       'COD_AGENCIA', 'DSC_NATUREZA', 'DSC_NATUREZA_GRUPO',\n",
      "       'COD_NATUREZA_GRUPO', 'DSC_NATUREZA_SUBGRUPO'],\n",
      "      dtype='object')\n"
     ]
    }
   ],
   "source": [
    "atendimento2021 = extract_full(['2021'])"
   ]
  },
  {
   "cell_type": "code",
   "execution_count": 73,
   "id": "426a40ef",
   "metadata": {},
   "outputs": [
    {
     "data": {
      "text/html": [
       "<div>\n",
       "<style scoped>\n",
       "    .dataframe tbody tr th:only-of-type {\n",
       "        vertical-align: middle;\n",
       "    }\n",
       "\n",
       "    .dataframe tbody tr th {\n",
       "        vertical-align: top;\n",
       "    }\n",
       "\n",
       "    .dataframe thead th {\n",
       "        text-align: right;\n",
       "    }\n",
       "</style>\n",
       "<table border=\"1\" class=\"dataframe\">\n",
       "  <thead>\n",
       "    <tr style=\"text-align: right;\">\n",
       "      <th></th>\n",
       "      <th>COD_ATENDIMENTO</th>\n",
       "      <th>DT_CADASTRO</th>\n",
       "      <th>DSC_UNIDADE</th>\n",
       "      <th>DSC_AGENCIA</th>\n",
       "      <th>NM_SIGLA</th>\n",
       "      <th>DSC_BAIRRO</th>\n",
       "      <th>DSC_CIDADE</th>\n",
       "      <th>DSC_NATUREZA</th>\n",
       "      <th>DSC_NATUREZA_GRUPO</th>\n",
       "      <th>DSC_NATUREZA_SUBGRUPO</th>\n",
       "    </tr>\n",
       "  </thead>\n",
       "  <tbody>\n",
       "    <tr>\n",
       "      <th>0</th>\n",
       "      <td>3953334</td>\n",
       "      <td>2021-01-01 00:00:10</td>\n",
       "      <td>MESA 02 - PMDF</td>\n",
       "      <td>POLÍCIA MILITAR DO DISTRITO FEDERAL</td>\n",
       "      <td>PMDF</td>\n",
       "      <td>VILA ESTRUTURAL (GUARÁ)</td>\n",
       "      <td>GUARÁ</td>\n",
       "      <td>EM APURAÇÃO</td>\n",
       "      <td>OPERAÇÃO</td>\n",
       "      <td>DE BUSCA E SALVAMENTO</td>\n",
       "    </tr>\n",
       "    <tr>\n",
       "      <th>1</th>\n",
       "      <td>3957380</td>\n",
       "      <td>2021-01-02 20:57:24</td>\n",
       "      <td>MESA 01 - DETRAN</td>\n",
       "      <td>DEPARTAMENTO DE TRÂNSITO DO DISTRITO FEDERAL</td>\n",
       "      <td>DETRAN-DF</td>\n",
       "      <td>VILA ESTRUTURAL (GUARÁ)</td>\n",
       "      <td>GUARÁ</td>\n",
       "      <td>EM APURAÇÃO</td>\n",
       "      <td>OPERAÇÃO</td>\n",
       "      <td>DE BUSCA E SALVAMENTO</td>\n",
       "    </tr>\n",
       "    <tr>\n",
       "      <th>2</th>\n",
       "      <td>3959454</td>\n",
       "      <td>2021-01-03 21:19:19</td>\n",
       "      <td>MESA 02 - PMDF</td>\n",
       "      <td>POLÍCIA MILITAR DO DISTRITO FEDERAL</td>\n",
       "      <td>PMDF</td>\n",
       "      <td>VILA ESTRUTURAL (GUARÁ)</td>\n",
       "      <td>GUARÁ</td>\n",
       "      <td>EM APURAÇÃO</td>\n",
       "      <td>OPERAÇÃO</td>\n",
       "      <td>DE BUSCA E SALVAMENTO</td>\n",
       "    </tr>\n",
       "    <tr>\n",
       "      <th>3</th>\n",
       "      <td>3961061</td>\n",
       "      <td>2021-01-04 23:30:25</td>\n",
       "      <td>MESA 02 - PMDF</td>\n",
       "      <td>POLÍCIA MILITAR DO DISTRITO FEDERAL</td>\n",
       "      <td>PMDF</td>\n",
       "      <td>VILA ESTRUTURAL (GUARÁ)</td>\n",
       "      <td>GUARÁ</td>\n",
       "      <td>EM APURAÇÃO</td>\n",
       "      <td>OPERAÇÃO</td>\n",
       "      <td>DE BUSCA E SALVAMENTO</td>\n",
       "    </tr>\n",
       "    <tr>\n",
       "      <th>4</th>\n",
       "      <td>3962686</td>\n",
       "      <td>2021-01-06 04:08:45</td>\n",
       "      <td>MESA 02 - PMDF</td>\n",
       "      <td>POLÍCIA MILITAR DO DISTRITO FEDERAL</td>\n",
       "      <td>PMDF</td>\n",
       "      <td>VILA ESTRUTURAL (GUARÁ)</td>\n",
       "      <td>GUARÁ</td>\n",
       "      <td>EM APURAÇÃO</td>\n",
       "      <td>OPERAÇÃO</td>\n",
       "      <td>DE BUSCA E SALVAMENTO</td>\n",
       "    </tr>\n",
       "  </tbody>\n",
       "</table>\n",
       "</div>"
      ],
      "text/plain": [
       "   COD_ATENDIMENTO         DT_CADASTRO       DSC_UNIDADE  \\\n",
       "0          3953334 2021-01-01 00:00:10    MESA 02 - PMDF   \n",
       "1          3957380 2021-01-02 20:57:24  MESA 01 - DETRAN   \n",
       "2          3959454 2021-01-03 21:19:19    MESA 02 - PMDF   \n",
       "3          3961061 2021-01-04 23:30:25    MESA 02 - PMDF   \n",
       "4          3962686 2021-01-06 04:08:45    MESA 02 - PMDF   \n",
       "\n",
       "                                    DSC_AGENCIA   NM_SIGLA  \\\n",
       "0           POLÍCIA MILITAR DO DISTRITO FEDERAL       PMDF   \n",
       "1  DEPARTAMENTO DE TRÂNSITO DO DISTRITO FEDERAL  DETRAN-DF   \n",
       "2           POLÍCIA MILITAR DO DISTRITO FEDERAL       PMDF   \n",
       "3           POLÍCIA MILITAR DO DISTRITO FEDERAL       PMDF   \n",
       "4           POLÍCIA MILITAR DO DISTRITO FEDERAL       PMDF   \n",
       "\n",
       "                DSC_BAIRRO DSC_CIDADE DSC_NATUREZA DSC_NATUREZA_GRUPO  \\\n",
       "0  VILA ESTRUTURAL (GUARÁ)      GUARÁ  EM APURAÇÃO           OPERAÇÃO   \n",
       "1  VILA ESTRUTURAL (GUARÁ)      GUARÁ  EM APURAÇÃO           OPERAÇÃO   \n",
       "2  VILA ESTRUTURAL (GUARÁ)      GUARÁ  EM APURAÇÃO           OPERAÇÃO   \n",
       "3  VILA ESTRUTURAL (GUARÁ)      GUARÁ  EM APURAÇÃO           OPERAÇÃO   \n",
       "4  VILA ESTRUTURAL (GUARÁ)      GUARÁ  EM APURAÇÃO           OPERAÇÃO   \n",
       "\n",
       "   DSC_NATUREZA_SUBGRUPO  \n",
       "0  DE BUSCA E SALVAMENTO  \n",
       "1  DE BUSCA E SALVAMENTO  \n",
       "2  DE BUSCA E SALVAMENTO  \n",
       "3  DE BUSCA E SALVAMENTO  \n",
       "4  DE BUSCA E SALVAMENTO  "
      ]
     },
     "execution_count": 73,
     "metadata": {},
     "output_type": "execute_result"
    }
   ],
   "source": [
    "atendimento2021.head()"
   ]
  },
  {
   "cell_type": "code",
   "execution_count": 71,
   "id": "8a12a617",
   "metadata": {},
   "outputs": [
    {
     "data": {
      "text/plain": [
       "array(['PMDF', 'DETRAN-DF', 'PCDF', 'DERDF', 'SAMU', 'CIOB', 'NOVACAP ',\n",
       "       'METRO-DF', 'CBMDF', 'DF LEGAL', 'SLU'], dtype=object)"
      ]
     },
     "execution_count": 71,
     "metadata": {},
     "output_type": "execute_result"
    }
   ],
   "source": [
    "atendimento2021.NM_SIGLA.unique()"
   ]
  },
  {
   "cell_type": "code",
   "execution_count": 107,
   "id": "097bc46e",
   "metadata": {},
   "outputs": [],
   "source": [
    "atendimento2021_cbmdf = atendimento2021[atendimento2021.NM_SIGLA == 'CBMDF']"
   ]
  },
  {
   "cell_type": "code",
   "execution_count": 108,
   "id": "1ab8f7a8",
   "metadata": {},
   "outputs": [],
   "source": [
    "atendimento2021_cbmdf_recanto = atendimento2021_cbmdf[atendimento2021_cbmdf.DSC_CIDADE == 'RECANTO DAS EMAS']"
   ]
  },
  {
   "cell_type": "code",
   "execution_count": 115,
   "id": "ff8a2843",
   "metadata": {},
   "outputs": [
    {
     "data": {
      "text/plain": [
       "245618    1\n",
       "245619    1\n",
       "245620    2\n",
       "245621    1\n",
       "245622    1\n",
       "Name: COD_TIPO_UNIDADE, dtype: int64"
      ]
     },
     "execution_count": 115,
     "metadata": {},
     "output_type": "execute_result"
    }
   ],
   "source": [
    "atendimento2021_cbmdf_recanto.COD_TIPO_UNIDADE.head()"
   ]
  },
  {
   "cell_type": "code",
   "execution_count": 116,
   "id": "17e708c4",
   "metadata": {},
   "outputs": [],
   "source": [
    "teste_filtrado = atendimento2021_cbmdf_recanto[atendimento2021_cbmdf_recanto.COD_TIPO_UNIDADE == 2]"
   ]
  },
  {
   "cell_type": "code",
   "execution_count": 117,
   "id": "9e7a77eb",
   "metadata": {},
   "outputs": [
    {
     "data": {
      "image/png": "[encoded data removed]",
      "text/plain": [
       "<Figure size 1080x504 with 1 Axes>"
      ]
     },
     "metadata": {
      "needs_background": "light"
     },
     "output_type": "display_data"
    }
   ],
   "source": [
    "plot_groupbar(teste_filtrado, 'DSC_UNIDADE')"
   ]
  },
  {
   "cell_type": "code",
   "execution_count": 118,
   "id": "55b1a6da",
   "metadata": {},
   "outputs": [
    {
     "data": {
      "text/plain": [
       "(4894, 11)"
      ]
     },
     "execution_count": 118,
     "metadata": {},
     "output_type": "execute_result"
    }
   ],
   "source": [
    "teste_filtrado.shape"
   ]
  },
  {
   "cell_type": "code",
   "execution_count": null,
   "id": "abeff009",
   "metadata": {},
   "outputs": [],
   "source": []
  },
  {
   "cell_type": "code",
   "execution_count": null,
   "id": "6a4cf91a",
   "metadata": {},
   "outputs": [],
   "source": []
  },
  {
   "cell_type": "code",
   "execution_count": null,
   "id": "4ac6d63c",
   "metadata": {},
   "outputs": [],
   "source": []
  },
  {
   "cell_type": "code",
   "execution_count": null,
   "id": "dc80e866",
   "metadata": {},
   "outputs": [],
   "source": []
  },
  {
   "cell_type": "code",
   "execution_count": 110,
   "id": "73b4ba02",
   "metadata": {},
   "outputs": [
    {
     "data": {
      "image/png": "[encoded data removed]",
      "text/plain": [
       "<Figure size 1080x504 with 1 Axes>"
      ]
     },
     "metadata": {
      "needs_background": "light"
     },
     "output_type": "display_data"
    }
   ],
   "source": [
    "plot_groupbar(atendimento2021_cbmdf_recanto, 'DSC_NATUREZA', limit = 20)"
   ]
  },
  {
   "cell_type": "code",
   "execution_count": 111,
   "id": "56849d7b",
   "metadata": {},
   "outputs": [
    {
     "data": {
      "image/png": "[encoded data removed]",
      "text/plain": [
       "<Figure size 1080x504 with 1 Axes>"
      ]
     },
     "metadata": {
      "needs_background": "light"
     },
     "output_type": "display_data"
    }
   ],
   "source": [
    "plot_groupbar(atendimento2021_cbmdf_recanto, 'DSC_UNIDADE')\n",
    "\n"
   ]
  },
  {
   "cell_type": "code",
   "execution_count": 78,
   "id": "f300d4e4",
   "metadata": {},
   "outputs": [],
   "source": [
    "cocb_filter = atendimento2021_cbmdf_recanto.DSC_UNIDADE.str.contains('COCB')\n",
    "\n"
   ]
  },
  {
   "cell_type": "code",
   "execution_count": 82,
   "id": "b16a1990",
   "metadata": {},
   "outputs": [],
   "source": [
    "atendimento2021_cbmdf_recanto_filtered = atendimento2021_cbmdf_recanto[~cocb_filter]"
   ]
  },
  {
   "cell_type": "code",
   "execution_count": 83,
   "id": "e27ac57d",
   "metadata": {},
   "outputs": [
    {
     "data": {
      "image/png": "[encoded data removed]",
      "text/plain": [
       "<Figure size 1080x504 with 1 Axes>"
      ]
     },
     "metadata": {
      "needs_background": "light"
     },
     "output_type": "display_data"
    }
   ],
   "source": [
    "plot_groupbar(atendimento2021_cbmdf_recanto_filtered, 'DSC_UNIDADE')"
   ]
  },
  {
   "cell_type": "code",
   "execution_count": 85,
   "id": "e5c743ac",
   "metadata": {},
   "outputs": [
    {
     "data": {
      "text/plain": [
       "(5188, 10)"
      ]
     },
     "execution_count": 85,
     "metadata": {},
     "output_type": "execute_result"
    }
   ],
   "source": [
    "atendimento2021_cbmdf_recanto_filtered.shape"
   ]
  },
  {
   "cell_type": "code",
   "execution_count": 26,
   "id": "1b80a055",
   "metadata": {},
   "outputs": [
    {
     "name": "stderr",
     "output_type": "stream",
     "text": [
      "C:\\Users\\ENER~1.BEC\\AppData\\Local\\Temp/ipykernel_16000/3848922975.py:1: DtypeWarning: Columns (14,21,23,24,31,42) have mixed types.Specify dtype option on import or set low_memory=False.\n",
      "  tele2021 = extrai_teleatendimento(['2021'])\n"
     ]
    }
   ],
   "source": [
    "tele2021 = extrai_teleatendimento(['2021'])"
   ]
  },
  {
   "cell_type": "code",
   "execution_count": 27,
   "id": "1508adc4",
   "metadata": {},
   "outputs": [
    {
     "data": {
      "text/html": [
       "<div>\n",
       "<style scoped>\n",
       "    .dataframe tbody tr th:only-of-type {\n",
       "        vertical-align: middle;\n",
       "    }\n",
       "\n",
       "    .dataframe tbody tr th {\n",
       "        vertical-align: top;\n",
       "    }\n",
       "\n",
       "    .dataframe thead th {\n",
       "        text-align: right;\n",
       "    }\n",
       "</style>\n",
       "<table border=\"1\" class=\"dataframe\">\n",
       "  <thead>\n",
       "    <tr style=\"text-align: right;\">\n",
       "      <th></th>\n",
       "      <th>COD_TELEATENDIMENTO</th>\n",
       "      <th>NR_ATENDIMENTO</th>\n",
       "      <th>COD_CIDADE</th>\n",
       "      <th>COD_NATUREZA</th>\n",
       "      <th>NR_LATITUDE</th>\n",
       "      <th>NR_LONGITUDE</th>\n",
       "      <th>LISTA_UNIDADES</th>\n",
       "      <th>DT_FATO</th>\n",
       "    </tr>\n",
       "  </thead>\n",
       "  <tbody>\n",
       "    <tr>\n",
       "      <th>0</th>\n",
       "      <td>12097963</td>\n",
       "      <td>NaN</td>\n",
       "      <td>NaN</td>\n",
       "      <td>NaN</td>\n",
       "      <td>NaN</td>\n",
       "      <td>NaN</td>\n",
       "      <td>NaN</td>\n",
       "      <td>NaN</td>\n",
       "    </tr>\n",
       "    <tr>\n",
       "      <th>1</th>\n",
       "      <td>12097962</td>\n",
       "      <td>NaN</td>\n",
       "      <td>NaN</td>\n",
       "      <td>NaN</td>\n",
       "      <td>NaN</td>\n",
       "      <td>NaN</td>\n",
       "      <td>NaN</td>\n",
       "      <td>NaN</td>\n",
       "    </tr>\n",
       "    <tr>\n",
       "      <th>2</th>\n",
       "      <td>12097961</td>\n",
       "      <td>NaN</td>\n",
       "      <td>NaN</td>\n",
       "      <td>NaN</td>\n",
       "      <td>NaN</td>\n",
       "      <td>NaN</td>\n",
       "      <td>NaN</td>\n",
       "      <td>NaN</td>\n",
       "    </tr>\n",
       "    <tr>\n",
       "      <th>3</th>\n",
       "      <td>12097960</td>\n",
       "      <td>NaN</td>\n",
       "      <td>NaN</td>\n",
       "      <td>NaN</td>\n",
       "      <td>NaN</td>\n",
       "      <td>NaN</td>\n",
       "      <td>NaN</td>\n",
       "      <td>NaN</td>\n",
       "    </tr>\n",
       "    <tr>\n",
       "      <th>4</th>\n",
       "      <td>12097959</td>\n",
       "      <td>NaN</td>\n",
       "      <td>NaN</td>\n",
       "      <td>NaN</td>\n",
       "      <td>NaN</td>\n",
       "      <td>NaN</td>\n",
       "      <td>NaN</td>\n",
       "      <td>NaN</td>\n",
       "    </tr>\n",
       "  </tbody>\n",
       "</table>\n",
       "</div>"
      ],
      "text/plain": [
       "   COD_TELEATENDIMENTO  NR_ATENDIMENTO  COD_CIDADE  COD_NATUREZA NR_LATITUDE  \\\n",
       "0             12097963             NaN         NaN           NaN         NaN   \n",
       "1             12097962             NaN         NaN           NaN         NaN   \n",
       "2             12097961             NaN         NaN           NaN         NaN   \n",
       "3             12097960             NaN         NaN           NaN         NaN   \n",
       "4             12097959             NaN         NaN           NaN         NaN   \n",
       "\n",
       "  NR_LONGITUDE LISTA_UNIDADES  DT_FATO  \n",
       "0          NaN            NaN      NaN  \n",
       "1          NaN            NaN      NaN  \n",
       "2          NaN            NaN      NaN  \n",
       "3          NaN            NaN      NaN  \n",
       "4          NaN            NaN      NaN  "
      ]
     },
     "execution_count": 27,
     "metadata": {},
     "output_type": "execute_result"
    }
   ],
   "source": [
    "tele2021.head()"
   ]
  },
  {
   "cell_type": "code",
   "execution_count": 28,
   "id": "c1e14624",
   "metadata": {},
   "outputs": [],
   "source": [
    "antedimento2021_raw = extrai_atendimento(['2021'])"
   ]
  },
  {
   "cell_type": "code",
   "execution_count": 29,
   "id": "d401c4c8",
   "metadata": {},
   "outputs": [
    {
     "data": {
      "text/html": [
       "<div>\n",
       "<style scoped>\n",
       "    .dataframe tbody tr th:only-of-type {\n",
       "        vertical-align: middle;\n",
       "    }\n",
       "\n",
       "    .dataframe tbody tr th {\n",
       "        vertical-align: top;\n",
       "    }\n",
       "\n",
       "    .dataframe thead th {\n",
       "        text-align: right;\n",
       "    }\n",
       "</style>\n",
       "<table border=\"1\" class=\"dataframe\">\n",
       "  <thead>\n",
       "    <tr style=\"text-align: right;\">\n",
       "      <th></th>\n",
       "      <th>Unnamed: 0</th>\n",
       "      <th>COD_ATENDIMENTO</th>\n",
       "      <th>COD_TELEATENDIMENTO</th>\n",
       "      <th>COD_UNIDADE</th>\n",
       "      <th>COD_NATUREZA_FINAL</th>\n",
       "      <th>DT_CADASTRO</th>\n",
       "    </tr>\n",
       "  </thead>\n",
       "  <tbody>\n",
       "    <tr>\n",
       "      <th>0</th>\n",
       "      <td>443341</td>\n",
       "      <td>3953334</td>\n",
       "      <td>9703978</td>\n",
       "      <td>22</td>\n",
       "      <td>491.0</td>\n",
       "      <td>2021-01-01 00:00:10</td>\n",
       "    </tr>\n",
       "    <tr>\n",
       "      <th>1</th>\n",
       "      <td>443342</td>\n",
       "      <td>3953335</td>\n",
       "      <td>9703990</td>\n",
       "      <td>22</td>\n",
       "      <td>491.0</td>\n",
       "      <td>2021-01-01 00:01:38</td>\n",
       "    </tr>\n",
       "    <tr>\n",
       "      <th>2</th>\n",
       "      <td>443343</td>\n",
       "      <td>3953336</td>\n",
       "      <td>9703996</td>\n",
       "      <td>22</td>\n",
       "      <td>491.0</td>\n",
       "      <td>2021-01-01 00:02:49</td>\n",
       "    </tr>\n",
       "    <tr>\n",
       "      <th>3</th>\n",
       "      <td>443344</td>\n",
       "      <td>3953337</td>\n",
       "      <td>9703996</td>\n",
       "      <td>8</td>\n",
       "      <td>751.0</td>\n",
       "      <td>2021-01-01 00:02:55</td>\n",
       "    </tr>\n",
       "    <tr>\n",
       "      <th>4</th>\n",
       "      <td>443345</td>\n",
       "      <td>3953338</td>\n",
       "      <td>9703996</td>\n",
       "      <td>7</td>\n",
       "      <td>752.0</td>\n",
       "      <td>2021-01-01 00:02:55</td>\n",
       "    </tr>\n",
       "  </tbody>\n",
       "</table>\n",
       "</div>"
      ],
      "text/plain": [
       "   Unnamed: 0  COD_ATENDIMENTO  COD_TELEATENDIMENTO  COD_UNIDADE  \\\n",
       "0      443341          3953334              9703978           22   \n",
       "1      443342          3953335              9703990           22   \n",
       "2      443343          3953336              9703996           22   \n",
       "3      443344          3953337              9703996            8   \n",
       "4      443345          3953338              9703996            7   \n",
       "\n",
       "   COD_NATUREZA_FINAL         DT_CADASTRO  \n",
       "0               491.0 2021-01-01 00:00:10  \n",
       "1               491.0 2021-01-01 00:01:38  \n",
       "2               491.0 2021-01-01 00:02:49  \n",
       "3               751.0 2021-01-01 00:02:55  \n",
       "4               752.0 2021-01-01 00:02:55  "
      ]
     },
     "execution_count": 29,
     "metadata": {},
     "output_type": "execute_result"
    }
   ],
   "source": [
    "antedimento2021_raw.head()"
   ]
  },
  {
   "cell_type": "code",
   "execution_count": 31,
   "id": "97777d68",
   "metadata": {},
   "outputs": [],
   "source": [
    "df2021 = antedimento2021_raw.merge(tele2021, on = 'COD_TELEATENDIMENTO')\n"
   ]
  },
  {
   "cell_type": "code",
   "execution_count": 34,
   "id": "9f31de3f",
   "metadata": {},
   "outputs": [],
   "source": [
    "local_cidade = pd.read_csv('data/TA_LOCAL_CIDADE.csv')[['COD_CIDADE', 'DSC_CIDADE']]\n"
   ]
  },
  {
   "cell_type": "code",
   "execution_count": 45,
   "id": "c2612f75",
   "metadata": {},
   "outputs": [
    {
     "data": {
      "text/plain": [
       "(287087, 9)"
      ]
     },
     "execution_count": 45,
     "metadata": {},
     "output_type": "execute_result"
    }
   ],
   "source": [
    "atendimento2021.shape"
   ]
  },
  {
   "cell_type": "code",
   "execution_count": null,
   "id": "e5efa34c",
   "metadata": {},
   "outputs": [],
   "source": []
  },
  {
   "cell_type": "code",
   "execution_count": null,
   "id": "383572a7",
   "metadata": {},
   "outputs": [],
   "source": []
  },
  {
   "cell_type": "code",
   "execution_count": 33,
   "id": "859ee916",
   "metadata": {},
   "outputs": [],
   "source": [
    "local = extrai_local()"
   ]
  },
  {
   "cell_type": "code",
   "execution_count": 35,
   "id": "5713c432",
   "metadata": {},
   "outputs": [],
   "source": [
    "df2021plus = df2021.merge(local_cidade, on = 'COD_CIDADE')"
   ]
  },
  {
   "cell_type": "code",
   "execution_count": 36,
   "id": "ee40b810",
   "metadata": {},
   "outputs": [
    {
     "data": {
      "text/html": [
       "<div>\n",
       "<style scoped>\n",
       "    .dataframe tbody tr th:only-of-type {\n",
       "        vertical-align: middle;\n",
       "    }\n",
       "\n",
       "    .dataframe tbody tr th {\n",
       "        vertical-align: top;\n",
       "    }\n",
       "\n",
       "    .dataframe thead th {\n",
       "        text-align: right;\n",
       "    }\n",
       "</style>\n",
       "<table border=\"1\" class=\"dataframe\">\n",
       "  <thead>\n",
       "    <tr style=\"text-align: right;\">\n",
       "      <th></th>\n",
       "      <th>Unnamed: 0</th>\n",
       "      <th>COD_ATENDIMENTO</th>\n",
       "      <th>COD_TELEATENDIMENTO</th>\n",
       "      <th>COD_UNIDADE</th>\n",
       "      <th>COD_NATUREZA_FINAL</th>\n",
       "      <th>DT_CADASTRO</th>\n",
       "      <th>NR_ATENDIMENTO</th>\n",
       "      <th>COD_CIDADE</th>\n",
       "      <th>COD_NATUREZA</th>\n",
       "      <th>NR_LATITUDE</th>\n",
       "      <th>NR_LONGITUDE</th>\n",
       "      <th>LISTA_UNIDADES</th>\n",
       "      <th>DT_FATO</th>\n",
       "      <th>DSC_CIDADE</th>\n",
       "    </tr>\n",
       "  </thead>\n",
       "  <tbody>\n",
       "    <tr>\n",
       "      <th>0</th>\n",
       "      <td>443341</td>\n",
       "      <td>3953334</td>\n",
       "      <td>9703978</td>\n",
       "      <td>22</td>\n",
       "      <td>491.0</td>\n",
       "      <td>2021-01-01 00:00:10</td>\n",
       "      <td>2.021010e+15</td>\n",
       "      <td>5578.0</td>\n",
       "      <td>505.0</td>\n",
       "      <td>NaN</td>\n",
       "      <td>NaN</td>\n",
       "      <td>[{\"COD_UNIDADE\":22,\"CRITERIO\":\"Área de atuação...</td>\n",
       "      <td>NaN</td>\n",
       "      <td>GUARÁ</td>\n",
       "    </tr>\n",
       "    <tr>\n",
       "      <th>1</th>\n",
       "      <td>443342</td>\n",
       "      <td>3953335</td>\n",
       "      <td>9703990</td>\n",
       "      <td>22</td>\n",
       "      <td>491.0</td>\n",
       "      <td>2021-01-01 00:01:38</td>\n",
       "      <td>2.021010e+15</td>\n",
       "      <td>5578.0</td>\n",
       "      <td>719.0</td>\n",
       "      <td>NaN</td>\n",
       "      <td>NaN</td>\n",
       "      <td>[{\"COD_UNIDADE\":22,\"CRITERIO\":\"Área de atuação...</td>\n",
       "      <td>NaN</td>\n",
       "      <td>GUARÁ</td>\n",
       "    </tr>\n",
       "    <tr>\n",
       "      <th>2</th>\n",
       "      <td>443343</td>\n",
       "      <td>3953336</td>\n",
       "      <td>9703996</td>\n",
       "      <td>22</td>\n",
       "      <td>491.0</td>\n",
       "      <td>2021-01-01 00:02:49</td>\n",
       "      <td>2.021010e+15</td>\n",
       "      <td>5578.0</td>\n",
       "      <td>669.0</td>\n",
       "      <td>-15.7899</td>\n",
       "      <td>-47.9776</td>\n",
       "      <td>[{\"COD_UNIDADE\":22,\"CRITERIO\":\"Área de atuação...</td>\n",
       "      <td>NaN</td>\n",
       "      <td>GUARÁ</td>\n",
       "    </tr>\n",
       "    <tr>\n",
       "      <th>3</th>\n",
       "      <td>443344</td>\n",
       "      <td>3953337</td>\n",
       "      <td>9703996</td>\n",
       "      <td>8</td>\n",
       "      <td>751.0</td>\n",
       "      <td>2021-01-01 00:02:55</td>\n",
       "      <td>2.021010e+15</td>\n",
       "      <td>5578.0</td>\n",
       "      <td>669.0</td>\n",
       "      <td>-15.7899</td>\n",
       "      <td>-47.9776</td>\n",
       "      <td>[{\"COD_UNIDADE\":22,\"CRITERIO\":\"Área de atuação...</td>\n",
       "      <td>NaN</td>\n",
       "      <td>GUARÁ</td>\n",
       "    </tr>\n",
       "    <tr>\n",
       "      <th>4</th>\n",
       "      <td>443345</td>\n",
       "      <td>3953338</td>\n",
       "      <td>9703996</td>\n",
       "      <td>7</td>\n",
       "      <td>752.0</td>\n",
       "      <td>2021-01-01 00:02:55</td>\n",
       "      <td>2.021010e+15</td>\n",
       "      <td>5578.0</td>\n",
       "      <td>669.0</td>\n",
       "      <td>-15.7899</td>\n",
       "      <td>-47.9776</td>\n",
       "      <td>[{\"COD_UNIDADE\":22,\"CRITERIO\":\"Área de atuação...</td>\n",
       "      <td>NaN</td>\n",
       "      <td>GUARÁ</td>\n",
       "    </tr>\n",
       "  </tbody>\n",
       "</table>\n",
       "</div>"
      ],
      "text/plain": [
       "   Unnamed: 0  COD_ATENDIMENTO  COD_TELEATENDIMENTO  COD_UNIDADE  \\\n",
       "0      443341          3953334              9703978           22   \n",
       "1      443342          3953335              9703990           22   \n",
       "2      443343          3953336              9703996           22   \n",
       "3      443344          3953337              9703996            8   \n",
       "4      443345          3953338              9703996            7   \n",
       "\n",
       "   COD_NATUREZA_FINAL         DT_CADASTRO  NR_ATENDIMENTO  COD_CIDADE  \\\n",
       "0               491.0 2021-01-01 00:00:10    2.021010e+15      5578.0   \n",
       "1               491.0 2021-01-01 00:01:38    2.021010e+15      5578.0   \n",
       "2               491.0 2021-01-01 00:02:49    2.021010e+15      5578.0   \n",
       "3               751.0 2021-01-01 00:02:55    2.021010e+15      5578.0   \n",
       "4               752.0 2021-01-01 00:02:55    2.021010e+15      5578.0   \n",
       "\n",
       "   COD_NATUREZA NR_LATITUDE NR_LONGITUDE  \\\n",
       "0         505.0         NaN          NaN   \n",
       "1         719.0         NaN          NaN   \n",
       "2         669.0    -15.7899     -47.9776   \n",
       "3         669.0    -15.7899     -47.9776   \n",
       "4         669.0    -15.7899     -47.9776   \n",
       "\n",
       "                                      LISTA_UNIDADES  DT_FATO DSC_CIDADE  \n",
       "0  [{\"COD_UNIDADE\":22,\"CRITERIO\":\"Área de atuação...      NaN      GUARÁ  \n",
       "1  [{\"COD_UNIDADE\":22,\"CRITERIO\":\"Área de atuação...      NaN      GUARÁ  \n",
       "2  [{\"COD_UNIDADE\":22,\"CRITERIO\":\"Área de atuação...      NaN      GUARÁ  \n",
       "3  [{\"COD_UNIDADE\":22,\"CRITERIO\":\"Área de atuação...      NaN      GUARÁ  \n",
       "4  [{\"COD_UNIDADE\":22,\"CRITERIO\":\"Área de atuação...      NaN      GUARÁ  "
      ]
     },
     "execution_count": 36,
     "metadata": {},
     "output_type": "execute_result"
    }
   ],
   "source": [
    "df2021plus.head()"
   ]
  },
  {
   "cell_type": "markdown",
   "id": "4239ac45",
   "metadata": {},
   "source": [
    "# Análise com TELEATENDIMENTO"
   ]
  },
  {
   "cell_type": "code",
   "execution_count": 37,
   "id": "4da7d83d",
   "metadata": {},
   "outputs": [],
   "source": [
    "recanto = df2021plus[df2021plus.DSC_CIDADE == 'RECANTO DAS EMAS']"
   ]
  },
  {
   "cell_type": "code",
   "execution_count": 38,
   "id": "89eb0bcb",
   "metadata": {},
   "outputs": [
    {
     "data": {
      "text/plain": [
       "Unnamed: 0             35884\n",
       "COD_ATENDIMENTO        35884\n",
       "COD_TELEATENDIMENTO    35884\n",
       "COD_UNIDADE            35884\n",
       "COD_NATUREZA_FINAL     35884\n",
       "DT_CADASTRO            35884\n",
       "NR_ATENDIMENTO         35884\n",
       "COD_CIDADE             35884\n",
       "COD_NATUREZA           35884\n",
       "NR_LATITUDE            11761\n",
       "NR_LONGITUDE           11761\n",
       "LISTA_UNIDADES         35883\n",
       "DT_FATO                    0\n",
       "DSC_CIDADE             35884\n",
       "dtype: int64"
      ]
     },
     "execution_count": 38,
     "metadata": {},
     "output_type": "execute_result"
    }
   ],
   "source": [
    "recanto.count()"
   ]
  },
  {
   "cell_type": "code",
   "execution_count": 44,
   "id": "85ee2c44",
   "metadata": {},
   "outputs": [
    {
     "data": {
      "text/plain": [
       "'[{\"COD_UNIDADE\":22,\"CRITERIO\":\"Área de atuação\",\"SELECIONADA\":true},{\"COD_UNIDADE\":403,\"CRITERIO\":\"Área de atuação\",\"SELECIONADA\":false}]'"
      ]
     },
     "execution_count": 44,
     "metadata": {},
     "output_type": "execute_result"
    }
   ],
   "source": [
    "recanto.LISTA_UNIDADES.iloc[0]"
   ]
  },
  {
   "cell_type": "code",
   "execution_count": 41,
   "id": "ee40f417",
   "metadata": {},
   "outputs": [
    {
     "data": {
      "text/plain": [
       "(789170, 13)"
      ]
     },
     "execution_count": 41,
     "metadata": {},
     "output_type": "execute_result"
    }
   ],
   "source": [
    "df2021.shape"
   ]
  },
  {
   "cell_type": "markdown",
   "id": "1da874dd",
   "metadata": {},
   "source": [
    "# Análise antiga sem TELEATENDIMENTO"
   ]
  },
  {
   "cell_type": "code",
   "execution_count": 56,
   "id": "442bc470",
   "metadata": {},
   "outputs": [],
   "source": [
    "recanto = atendimento2021[atendimento2021.DSC_CIDADE == 'RECANTO DAS EMAS']"
   ]
  },
  {
   "cell_type": "code",
   "execution_count": 57,
   "id": "40be9601",
   "metadata": {},
   "outputs": [
    {
     "data": {
      "text/plain": [
       "COD_ATENDIMENTO          35879\n",
       "DT_CADASTRO              35879\n",
       "DSC_UNIDADE              35879\n",
       "DSC_BAIRRO               35879\n",
       "DSC_CIDADE               35879\n",
       "DSC_NATUREZA             35879\n",
       "DSC_NATUREZA_GRUPO       35879\n",
       "DSC_NATUREZA_SUBGRUPO    35879\n",
       "COD_TELEATENDIMENTO      35879\n",
       "dtype: int64"
      ]
     },
     "execution_count": 57,
     "metadata": {},
     "output_type": "execute_result"
    }
   ],
   "source": [
    "recanto.count()"
   ]
  },
  {
   "cell_type": "code",
   "execution_count": 59,
   "id": "9a4c2f89",
   "metadata": {},
   "outputs": [
    {
     "data": {
      "text/plain": [
       "(788733, 9)"
      ]
     },
     "execution_count": 59,
     "metadata": {},
     "output_type": "execute_result"
    }
   ],
   "source": [
    "atendimento2021.shape"
   ]
  },
  {
   "cell_type": "code",
   "execution_count": 62,
   "id": "a197ce7a",
   "metadata": {},
   "outputs": [
    {
     "data": {
      "text/plain": [
       "85"
      ]
     },
     "execution_count": 62,
     "metadata": {},
     "output_type": "execute_result"
    }
   ],
   "source": [
    "len(recanto.DSC_NATUREZA.unique())"
   ]
  },
  {
   "cell_type": "code",
   "execution_count": null,
   "id": "31899639",
   "metadata": {},
   "outputs": [],
   "source": []
  },
  {
   "cell_type": "code",
   "execution_count": null,
   "id": "97f0874f",
   "metadata": {},
   "outputs": [],
   "source": []
  },
  {
   "cell_type": "code",
   "execution_count": 46,
   "id": "4b10775e",
   "metadata": {},
   "outputs": [],
   "source": [
    "recanto_agress = recanto[recanto.DSC_NATUREZA == 'AGRESSÃO FÍSICA']"
   ]
  },
  {
   "cell_type": "code",
   "execution_count": 49,
   "id": "463b65fb",
   "metadata": {},
   "outputs": [],
   "source": [
    "grouped = recanto_agress.groupby(recanto_agress.DT_CADASTRO.dt.day).count()"
   ]
  },
  {
   "cell_type": "code",
   "execution_count": 51,
   "id": "13516f71",
   "metadata": {},
   "outputs": [
    {
     "data": {
      "text/plain": [
       "DT_CADASTRO\n",
       "1    6\n",
       "2    7\n",
       "3    3\n",
       "4    6\n",
       "5    7\n",
       "Name: COD_ATENDIMENTO, dtype: int64"
      ]
     },
     "execution_count": 51,
     "metadata": {},
     "output_type": "execute_result"
    }
   ],
   "source": [
    "grouped['COD_ATENDIMENTO'].head()"
   ]
  },
  {
   "cell_type": "code",
   "execution_count": 40,
   "id": "02b40d75",
   "metadata": {},
   "outputs": [
    {
     "data": {
      "image/png": "[encoded data removed]",
      "text/plain": [
       "<Figure size 1080x504 with 1 Axes>"
      ]
     },
     "metadata": {
      "needs_background": "light"
     },
     "output_type": "display_data"
    }
   ],
   "source": [
    "plot_groupbar(recanto, 'DSC_NATUREZA', 20)"
   ]
  },
  {
   "cell_type": "code",
   "execution_count": null,
   "id": "394db039",
   "metadata": {},
   "outputs": [],
   "source": []
  }
 ],
 "metadata": {
  "kernelspec": {
   "display_name": "Python 3 (ipykernel)",
   "language": "python",
   "name": "python3"
  },
  "language_info": {
   "codemirror_mode": {
    "name": "ipython",
    "version": 3
   },
   "file_extension": ".py",
   "mimetype": "text/x-python",
   "name": "python",
   "nbconvert_exporter": "python",
   "pygments_lexer": "ipython3",
   "version": "3.9.12"
  }
 },
 "nbformat": 4,
 "nbformat_minor": 5
}
